{
 "cells": [
  {
   "cell_type": "code",
   "execution_count": null,
   "metadata": {
    "id": "qAsaMZtAHLop"
   },
   "outputs": [],
   "source": [
    "import torch"
   ]
  },
  {
   "cell_type": "code",
   "execution_count": null,
   "metadata": {
    "colab": {
     "base_uri": "https://localhost:8080/"
    },
    "id": "RulcpiqBHPzn",
    "outputId": "ec5ffd76-00d0-4473-d894-9f7b4a1bfda5"
   },
   "outputs": [],
   "source": [
    "value = 7 + (1/3)\n",
    "value"
   ]
  },
  {
   "cell_type": "code",
   "execution_count": null,
   "metadata": {
    "id": "y_fIIyfFHUF8"
   },
   "outputs": [],
   "source": [
    "tensor_fp64 = torch.tensor(value, dtype = torch.float64)\n",
    "tensor_fp32 = torch.tensor(value, dtype = torch.float32)\n",
    "tensor_fp16 = torch.tensor(value, dtype = torch.float16)\n",
    "tensor_bf16 = torch.tensor(value, dtype = torch.bfloat16)\n",
    "tensor_int8 = torch.tensor(value, dtype = torch.int8)"
   ]
  },
  {
   "cell_type": "code",
   "execution_count": null,
   "metadata": {
    "colab": {
     "base_uri": "https://localhost:8080/"
    },
    "id": "qIejE-YnHlMS",
    "outputId": "b8e584ed-8602-4a2d-f6e2-01be209e4d0e"
   },
   "outputs": [],
   "source": [
    "print(f\"fp64: {format(tensor_fp64.item(), '.60f')}\")\n",
    "print(f\"fp32: {format(tensor_fp32.item(), '.60f')}\")\n",
    "print(f\"fp16: {format(tensor_fp16.item(), '.60f')}\")\n",
    "print(f\"bf16: {format(tensor_bf16.item(), '.60f')}\")\n",
    "print(f\"int8: {format(tensor_int8.item(), '.60f')}\")"
   ]
  },
  {
   "cell_type": "code",
   "execution_count": null,
   "metadata": {
    "colab": {
     "base_uri": "https://localhost:8080/"
    },
    "id": "XTyJ9bl8H8bn",
    "outputId": "c6c4ee7e-d303-4a8f-c1c4-a5300430d63d"
   },
   "outputs": [],
   "source": [
    "def calculate_memory(tensor):\n",
    "    return tensor.element_size() * tensor.nelement()\n",
    "\n",
    "# Calculate and print the memory requirements\n",
    "print(f\"fp64 memory: {calculate_memory(tensor_fp64)} bytes\")\n",
    "print(f\"fp32 memory: {calculate_memory(tensor_fp32)} bytes\")\n",
    "print(f\"fp16 memory: {calculate_memory(tensor_fp16)} bytes\")\n",
    "print(f\"bf16 memory: {calculate_memory(tensor_bf16)} bytes\")\n",
    "print(f\"int8 memory: {calculate_memory(tensor_int8)} byte\")"
   ]
  },
  {
   "cell_type": "code",
   "execution_count": null,
   "metadata": {},
   "outputs": [],
   "source": []
  }
 ],
 "metadata": {
  "colab": {
   "provenance": []
  },
  "kernelspec": {
   "display_name": "Python 3 (ipykernel)",
   "language": "python",
   "name": "python3"
  },
  "language_info": {
   "name": "python"
  }
 },
 "nbformat": 4,
 "nbformat_minor": 4
}
