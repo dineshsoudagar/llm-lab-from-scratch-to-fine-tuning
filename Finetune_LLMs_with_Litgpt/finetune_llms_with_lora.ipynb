{
 "cells": [
  {
   "cell_type": "code",
   "execution_count": null,
   "id": "71c3f79d-5bf2-4af3-8b8d-c5fa6d9081d1",
   "metadata": {},
   "outputs": [],
   "source": [
    "import json\n",
    "\n",
    "file_paths = [\"qa_dataset/squad_train.json\", \"qa_dataset/squad_v2_train.json\", \"qa_dataset/squad_v2_val.json\", \"qa_dataset/hotpot_train_v1_converted.1.json\"]\n",
    "\n",
    "data_mapped = []\n",
    "for file_path in file_paths:\n",
    "    with open(file_path, \"r\") as file:\n",
    "        data = json.load(file)\n",
    "    print(f\"Number of entries in file {file_path}:\", len(data))\n",
    "    for i in range(len(data)):\n",
    "        data_mapped.append({\n",
    "            \"instruction\" : f\"Answer the following Question based on the following Context:{data[i]['context']}\",\n",
    "            \"input\" : f\"Question: {data[i]['question']}\",\n",
    "            \"output\" : data[i][\"answer\"]}\n",
    "                          )"
   ]
  },
  {
   "cell_type": "code",
   "execution_count": null,
   "id": "49acebe0-a480-4351-ba32-555eb69e8622",
   "metadata": {},
   "outputs": [],
   "source": [
    "import random\n",
    "data = data_mapped\n",
    "random.shuffle(data)\n",
    "print(f\"Number of entries in total :\", len(data))\n",
    "train_portion = int(len(data) * 0.95)  # 95% for training\n",
    "test_portion = int(len(data) * 0.5)    # 5% for testing data is large enough\n",
    "\n",
    "train_data = data[:train_portion]\n",
    "test_data = data[train_portion:]"
   ]
  },
  {
   "cell_type": "code",
   "execution_count": null,
   "id": "3b4b3c0c-1a2f-4e5e-ac55-870ef4ac0dde",
   "metadata": {},
   "outputs": [],
   "source": [
    "print(\"Training set length:\", len(train_data))\n",
    "print(\"Test set length:\", len(test_data))"
   ]
  },
  {
   "cell_type": "code",
   "execution_count": null,
   "id": "e28d5d7d-6f0c-43af-82a6-12a641543520",
   "metadata": {},
   "outputs": [],
   "source": [
    "with open(\"train_squad_v1_v2_hotpot.json\", \"w\") as json_file:\n",
    "    json.dump(train_data, json_file, indent=4)\n",
    "    \n",
    "with open(\"test_squad_v1_v2_hotpot.json\", \"w\") as json_file:\n",
    "    json.dump(test_data, json_file, indent=4)"
   ]
  },
  {
   "cell_type": "code",
   "execution_count": null,
   "id": "724d0550-8cbb-45e4-9902-4e993eb7dcef",
   "metadata": {},
   "outputs": [],
   "source": [
    "!litgpt finetune_lora --help"
   ]
  },
  {
   "cell_type": "code",
   "execution_count": null,
   "id": "b1b2eba9-c8d0-44fa-9922-6749e27dd120",
   "metadata": {},
   "outputs": [],
   "source": [
    "!litgpt finetune_lora meta-llama\\Llama-3.2-1B-Instruct \\\n",
    "--data JSON \\\n",
    "--data.val_split_fraction 0.1 \\\n",
    "--data.json_path train.json \\\n",
    "--train.epochs 3 \\\n",
    "--train.log_interval 100"
   ]
  },
  {
   "cell_type": "code",
   "execution_count": null,
   "id": "7a014fa9-e3d4-4d8a-a8d5-73d7425f4a3a",
   "metadata": {},
   "outputs": [],
   "source": [
    "!litgpt finetune_lora meta-llama\\Llama-3.2-1B-Instruct --data JSON --data.val_split_fraction 0.1 --data.json_path train.json --train.epochs 10 --train.log_interval 100 --precision bf16-true --train.micro_batch_size 2"
   ]
  }
 ],
 "metadata": {
  "kernelspec": {
   "display_name": "Python 3 (ipykernel)",
   "language": "python",
   "name": "python3"
  },
  "language_info": {
   "codemirror_mode": {
    "name": "ipython",
    "version": 3
   },
   "file_extension": ".py",
   "mimetype": "text/x-python",
   "name": "python",
   "nbconvert_exporter": "python",
   "pygments_lexer": "ipython3",
   "version": "3.11.9"
  }
 },
 "nbformat": 4,
 "nbformat_minor": 5
}
